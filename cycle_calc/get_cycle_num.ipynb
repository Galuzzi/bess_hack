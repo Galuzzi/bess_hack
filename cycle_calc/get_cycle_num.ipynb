{
 "cells": [
  {
   "cell_type": "code",
   "execution_count": 4,
   "id": "4c0af2bd-0ece-42f9-ab7f-374bbc42c5f3",
   "metadata": {},
   "outputs": [],
   "source": [
    "import pandas as pd\n",
    "import numpy as np\n",
    "from pathlib import Path\n"
   ]
  },
  {
   "cell_type": "code",
   "execution_count": 5,
   "id": "ae7a577d-b014-42ed-ba7e-9d231df80e7a",
   "metadata": {},
   "outputs": [],
   "source": [
    "def read_series(path: Path, ts_col: str, tz: str | None = None) -> pd.Series:\n",
    "    df = pd.read_csv(path)\n",
    "    num_cols = df.select_dtypes(include=[np.number]).columns.tolist()\n",
    "    if len(num_cols) == 0:\n",
    "        val_col = next(c for c in df.columns if c != ts_col)\n",
    "    else:\n",
    "        val_col = num_cols[0]\n",
    "    idx = pd.to_datetime(df[ts_col], errors=\"coerce\")\n",
    "    s = pd.Series(pd.to_numeric(df[val_col], errors=\"coerce\").values, index=idx, name=val_col)\n",
    "    s = s[~s.index.isna()].sort_index()\n",
    "    if tz:\n",
    "        if s.index.tz is None:\n",
    "            # Use ambiguous='infer' to let pandas guess DST transitions\n",
    "            s.index = s.index.tz_localize(tz, ambiguous=\"infer\")\n",
    "        else:\n",
    "            s.index = s.index.tz_convert(tz)\n",
    "    return s\n",
    "\n",
    "def get_cycle_number(series):\n",
    "    # Time step in seconds\n",
    "    time_delta = (series.index[1] - series.index[0]).total_seconds()\n",
    "    \n",
    "    # Step 1: (Optional) Fill missing data if needed\n",
    "    series = series.interpolate()  # Ensure no NaNs\n",
    "    \n",
    "    # Step 2: FFT\n",
    "    fft_vals = np.fft.fft(series)\n",
    "    fft_freqs = np.fft.fftfreq(len(series), d=time_delta)  # 900 seconds per sample (15 min)\n",
    "    \n",
    "    # Step 3: Focus on positive frequencies\n",
    "    positive_freqs = fft_freqs[fft_freqs > 0]\n",
    "    positive_magnitudes = np.abs(fft_vals[fft_freqs > 0])\n",
    "    \n",
    "    # Step 4: Find dominant frequency\n",
    "    dominant_freq = positive_freqs[np.argmax(positive_magnitudes)]\n",
    "    \n",
    "    # Step 5: Total duration in seconds\n",
    "    total_duration_sec = (series.index[-1] - series.index[0]).total_seconds()\n",
    "    \n",
    "    # Step 6: Estimate number of cycles\n",
    "    num_cycles = dominant_freq * total_duration_sec\n",
    "    #print(f\"Estimated number of cycles in data: {num_cycles:.2f}\")\n",
    "    \n",
    "    return round(num_cycles)"
   ]
  },
  {
   "cell_type": "code",
   "execution_count": 6,
   "id": "3618ba98-6b02-498a-b06d-3b00df78e777",
   "metadata": {},
   "outputs": [
    {
     "name": "stdout",
     "output_type": "stream",
     "text": [
      "Total cycles: 1267 cycles\n",
      "Cycles in the last month: 31 cycles\n"
     ]
    }
   ],
   "source": [
    "# Fixed data\n",
    "BASE = Path(\"../energy_hackathon_data/BESS/ZHPESS232A230002\")\n",
    "PATH_BMS_SOC = BASE / \"bms1_soc.csv\"\n",
    "\n",
    "TS_COL = \"ts\"       # common timestamp column name across \n",
    "\n",
    "# Data that is adjustable by the users. Maxium is 2025-06-13\n",
    "date = \"2025-06-13\"\n",
    "\n",
    "series = read_series(PATH_BMS_SOC, TS_COL).rename(\"bms1_soc\")\n",
    "series = series.resample(\"h\").mean()\n",
    "\n",
    "num_cycle = get_cycle_number(series)\n",
    "\n",
    "print(f\"Total cycles: {num_cycle} cycles\")\n",
    "\n",
    "current_date = pd.to_datetime(date)\n",
    "month_behind = current_date - pd.DateOffset(months=1)\n",
    "\n",
    "series_last_month = series[month_behind:current_date]\n",
    "num_cycle_last_month = get_cycle_number(series_last_month)\n",
    "\n",
    "print(f\"Cycles in the last month: {num_cycle_last_month} cycles\")\n",
    "\n",
    "# return num_cycle, num_cycle_last_month"
   ]
  },
  {
   "cell_type": "code",
   "execution_count": 7,
   "id": "3f131f61-24ed-4a8e-b4e0-8349a12968e9",
   "metadata": {},
   "outputs": [
    {
     "data": {
      "text/plain": [
       "ts\n",
       "2023-09-19 12:09:22    29\n",
       "2023-09-19 12:10:21    29\n",
       "2023-09-19 12:11:20    29\n",
       "2023-09-19 12:12:19    30\n",
       "2023-09-19 12:13:18    30\n",
       "                       ..\n",
       "2025-06-13 23:55:27     2\n",
       "2025-06-13 23:56:28     2\n",
       "2025-06-13 23:57:29     2\n",
       "2025-06-13 23:58:30     2\n",
       "2025-06-13 23:59:30     2\n",
       "Name: bms1_soc, Length: 887833, dtype: int64"
      ]
     },
     "execution_count": 7,
     "metadata": {},
     "output_type": "execute_result"
    }
   ],
   "source": [
    "series"
   ]
  },
  {
   "cell_type": "code",
   "execution_count": null,
   "id": "e77a97c0-fc1d-469a-9fb8-bc95d3574e35",
   "metadata": {},
   "outputs": [],
   "source": []
  }
 ],
 "metadata": {
  "kernelspec": {
   "display_name": "Python 3 (ipykernel)",
   "language": "python",
   "name": "python3"
  },
  "language_info": {
   "codemirror_mode": {
    "name": "ipython",
    "version": 3
   },
   "file_extension": ".py",
   "mimetype": "text/x-python",
   "name": "python",
   "nbconvert_exporter": "python",
   "pygments_lexer": "ipython3",
   "version": "3.12.10"
  }
 },
 "nbformat": 4,
 "nbformat_minor": 5
}
